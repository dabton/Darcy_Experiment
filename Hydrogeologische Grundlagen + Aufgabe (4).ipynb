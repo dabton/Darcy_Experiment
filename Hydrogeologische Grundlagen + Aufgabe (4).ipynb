{
 "cells": [
  {
   "cell_type": "markdown",
   "metadata": {},
   "source": [
    "# Grundlagen der Hydrogeologie \n",
    "\n",
    "## *Lernziele:*\n",
    "* Erlangen eines grundlegendes Verständnisses über:\n",
    "  * den Aufbau des unterirdischen Raumes\n",
    "  * Begrifflichkeiten des Grundwassers und der Grundwasserleiter\n",
    "  * die Beziehung von Fließgewässern zu Grundwasser\n",
    "  * das hydraulische Potential als bestimmender Faktor der Grundwasserbewegung\n",
    "  * die Darcy-Gleichung und ihre Bestandteile (insbesondere der hydraulischen Leitfähigkeit)\n",
    "\n",
    " \n",
    "\n",
    "## Herkunft des Dresdner Trinkwassers: \n",
    "![Bild12.jpg](Bilder/Bild12.jpg)<figcaption>Abb.1 - Herkunft des Dresdner Trinkwassers,Umweltamt Dresden, https://www.dresden.de/de/stadtraum/umwelt/umwelt/055/trinkwasser.php?pk_campaign=Shortcut&pk_kwd=trinkwasser</figcaption>\n",
    "\n",
    "Ein erheblicher Teil des Trinkwassers in Dresden wird aus dem Grundwasser entnommen. \n",
    "Deutschlandweit ist dieser Anteil sogar noch höher und liegt bei über 70 %. Deshalb ist es wichtig, Grundwasser zu schützen und dafür die Transport- und Speichervorgänge im Boden zu verstehen. \n",
    "## Herkunft des Trinkwassers in ganz Deutschland: \n",
    "<div>\n",
    "   <img=src=\"Bilder/Bild13.jpg\" width=\"700\">\n",
    "        \n",
    "</div>\n",
    "\n"
   ]
  },
  {
   "cell_type": "markdown",
   "metadata": {},
   "source": [
    "# Aufbau des unterirdischen Raumes\n",
    "\n",
    "<div>\n",
    "   <img=src=\"Bilder/Bild14.png\" width=\"300\">\n",
    "    <figcaption>Abb.3 - Hohlräume im Gestein: Unterteilung in Poren und Klüfte. Lexikon der Geothermie,https://www.geothermie.de/fileadmin/_processed_/8/5/csm_Poren_711b2bfde7.png</figcaption>\n",
    "</div>\n",
    "\n",
    "\n",
    "Der unterirdische Raum wird als ein poröses Medium gesehen. \n",
    "Hohlräume in Gesteinen können von unterschiedlicher Natur sein. Klüfte, Risse oder Poren treten je nach Art des Gesteins auf und haben Einfluss auf die Speicherung und das Fließverhalten von Wasser. Sie können miteinander verbunden sein oder einzeln vorkommen.  \n",
    "Die Porosität n gibt an, wie groß der Anteil des freien Raumes im Gestein ist. Die Porosität ist der Quotient des Hohlraumvolumens vom Gesamtvolumen des Gesteins. \n",
    "\\begin{equation}\n",
    "n_{s} = \\frac{V_{sp}} {V_{ges}}\n",
    "\\label{1}\n",
    "\\end{equation}\n",
    "\n",
    "* n = Porenanteil [-]\n",
    "* $V_{ges}$ = Gesamtvolumen $[m^{3}$]\n",
    "* $V_{sp}$ = Porenvolumensänderung unter Druck $[m^{3}$]\n",
    "\n",
    "\n",
    "Der Porenraum kann mit Gasen (Luft) oder Fluiden (Wasser) gefüllt sein. \n",
    "Die Porosität ist abhängig von: \n",
    "* Form und Größe der Bodenteilchen\n",
    "* Packungungsdichte \n",
    "\n",
    "<div>\n",
    "   <img=src=\"Bilder/Bild18.png\" width=\"600\">\n",
    "    <figcaption>Abb.4 Porositätswerte - Engelhardt, Grundwasserdynamik,2009</figcaption>\n",
    "</div>\n",
    "\n",
    "Füllt Wasser diese Hohlräume völlig aus, so spricht man von gesättgten Verhältnissen. \n",
    "Sind die Hohlräume nur zum Teil mit Wasser gefüllt, so spricht man von ungesättigten Verhältnissen.\n",
    "\n",
    "\n",
    "\n",
    "\n",
    "\n",
    "![Bild11.gif](Bilder/Bild11.gif \"\")\n",
    "<figcaption>Abb.5 - Verteilung des Wassers im Boden, https://www.berlin.de/umweltatlas/_assets/wasser/grundwasserhoehen/2006/de-abbildungen/f212_02.gif</figcaption>\n",
    "\n",
    "Unterteilung des unterirdischen Raumes in verschiedene Zonen: \n",
    "* gesättigte Zone: Wasser wird Grundwasser genannt \n",
    "* ungesättigte Zone: Wasser wird Sickerwasser genannt\n",
    "\n",
    "\n",
    "Das Sickerwasser folgt der Gravitation, kann jedoch durch verschiedene Kräfte zurückgehalten werden: \n",
    "* Kapillarkräfte\n",
    "* Adsorptionskräfte\n",
    "* molekuläre Bindungen/Oberflächenspannung\n",
    "\n",
    "Kapillarkräfte wirken entgegen der Gravitation: \n",
    "- sie ziehen Grundwasser in die ungesättigte Zone und bilden den Kapillarwasserraum\n",
    "- je kleiner die Korngröße ist, desto größer ist die Kapillarkraft"
   ]
  },
  {
   "cell_type": "markdown",
   "metadata": {},
   "source": [
    "\n",
    "<img src=\"attachment:Bild14.png\" width=\"400px\">"
   ]
  },
  {
   "cell_type": "markdown",
   "metadata": {},
   "source": [
    "# Grundwasser und Grundwasserleiter \n",
    "\n",
    "Grundwasser  \n",
    "* wassergefüllter Teil des Untergrundes, der den Porenraum vollständig mit Wasser ausfüllt\n",
    "* unterliegt der Schwerkraft\n",
    "\n",
    "## Begriffsdefinitionen\n",
    "\n",
    "Grundwasserleiter = Aquifer:\n",
    "- Gesteinskörper, die auf Grund von Hohlräumen Grundwasser leiten und speichern können\n",
    "\n",
    "Grundwassergeringleiter = Aquitard: \n",
    "- ist in der Lage Grundwasser weiterzuleiten und zu speichern, doch in einem geringeren Ausmaß als der Grundwasserleiter\n",
    "\n",
    "Grundwasserstauer = Aquiclude:\n",
    "- speichert Grundwasser, kann es jedoch nicht weiterleiten\n",
    "\n",
    "Grundwassernichtleiter =  Aquifuge: \n",
    "- ist nicht in der Lage Grundwasser weiterzuleiten oder zu speichern\n",
    "\n",
    "Grundwasserraum: \n",
    "+ mit Grundwasser gefüllter Gesteinskörper \n",
    "Grundwasseroberfläche: \n",
    "+ obere Begrenzung des Grundwasserleiters\n",
    "Grundwassersohle:      \n",
    "+ untere Begrenzung des Grundwasserleiters\n",
    "\n",
    "Der Abstand zwischen der Grundwasseroberfläche und der Grundwassersohle wird als Grundwassermächtigkeit bezeichnet.\n",
    "Der Abstand zwischen der Grundwasseroberfläche und der Geländeoberkante ist als Grundwasserflurabstand definiert.\n",
    "Die verschiednen Arten der Grundwasserleiter treten oft in parallelen Schichtungen auf.\n",
    "Befinden sich mehrere Grundwasserleiter, zum Beispiel bedingt durch eine stauende Tonschicht, übereinander geschichtet, so erfolgt eine Einteilung in Grundwasserstockwerke. Jedoch ist es häufig der Fall, dass tektonische Störungen (Verschiebungen der Gesteinskörper) auftreten und die Schichtung und Durchlässigkeit von Grundwasserleitern beeinflussen. \n",
    "\n",
    "![Bild15.png](Bilder/Bild15.png \"\")<figcaption>Abb.6 -hydrogeologischer Aufbau undd Begriffe. Hoelting B.,Hydrogeologie,2009</figcaption>\n",
    "\n",
    "## Gespannte und ungespannte Grundwasserleiter \n",
    "\n",
    "\n",
    "Bei Betrachtung der Lage der Grundwasserleiter im Stadtgebiet Dresden wird ersichtlich, dass eine Unterteilung in zwei Grundwasserleiterstockwerke erfolgt. \n",
    "\n",
    "<div>\n",
    "   <img=src=\"Bilder/Bild16.png\" width=\"700\">\n",
    "    <figcaption>Abb.7 -Aufbau der hydrogeologischen Schichten in Dresden. Ullrich,Umweltbericht Grundwasser,Landeshauptstadt Dresden</figcaption>\n",
    "</div>\n",
    "\n",
    "Der obere Grundwasserleiter ist ein sogenannter **ungespannter Grundwasserleiter**. \n",
    "Die Grundwasseroberfläche ist bestimmt durch den Wasserspiegel. Somit ändert sich die wassergefüllte Mächtigkeit des Aquifers je nach Niederschlag, Zu- und Abfluss. \n",
    "\n",
    "Der untere Grundwasserleiter in Dresden wird als **gespannter Grundwasserleiter** definiert. \n",
    "Hier bleibt die wassergefüllte Mächtigkeit des Aquifers immer konstant, da die Grundwasseroberfläche durch eine Tonschicht begrenzt wird. Sie wirkt als Grundwasserstauer. Auf Grund der Lage der Elbhänge und der Sedimentschichtungen wird das Niederschlagswasser in diesem Grundwasserleiter tiefer hinab gedrückt. Da die Elbhänge eine höhere Lage als die Grundwasseroberfläche aufweisen, entsteht ein Druckpotential. Daher wird von gespannten Verhältnissen gesprochen. \n",
    "\n",
    "Wenn dieser gespannte Grundwasserleiter angebohrt wird, so schießt das Grundwasser an die Geländeoberfläche um die Druckdifferenz auszugleichen. Es wird von **artesischen Verhältnissen** gesprochen, wenn die Drucklinie höher als die Geländeoberfläche liegt. \n",
    "\n",
    "Ein solcher artesischer Brunnen befindet sich am Albertplatz: \n",
    "<div>\n",
    "   <img=src=\"Bilder/Bild17.jpg\" width=\"700\">\n",
    "    <figcaption>Abb.8 - Ausläufer des Artesischen Brunnens am Albertplatz. Staedte-fotos.de https://www.staedte-fotos.de/1200/dresden-artesische-brunnen-am-58219.jpg</figcaption>\n",
    "</div>\n",
    "\n",
    "\n",
    "\n"
   ]
  },
  {
   "cell_type": "code",
   "execution_count": 34,
   "metadata": {},
   "outputs": [
    {
     "data": {
      "image/jpeg": "[encoded data removed]",
      "text/html": [
       "\n",
       "        <iframe\n",
       "            width=\"900\"\n",
       "            height=\"400\"\n",
       "            src=\"https://www.youtube.com/embed/zwOC6wOWfBM\"\n",
       "            frameborder=\"0\"\n",
       "            allowfullscreen\n",
       "        ></iframe>\n",
       "        "
      ],
      "text/plain": [
       "<IPython.lib.display.YouTubeVideo at 0x221487c1fc8>"
      ]
     },
     "execution_count": 34,
     "metadata": {},
     "output_type": "execute_result"
    }
   ],
   "source": [
    "from IPython.display import YouTubeVideo\n",
    "\n",
    "id = 'zwOC6wOWfBM'\n",
    "YouTubeVideo (id=id, width = 900, height=400)\n"
   ]
  },
  {
   "cell_type": "markdown",
   "metadata": {},
   "source": [
    "# Fließgewässer in Verbindung mit Grundwasser\n",
    "\n",
    "Fließgewässer stehen in einer speziellen Beziehung zu Grundwasser. Sie können als Grundwasserquelle (geben Wasser ab) oder auch als Grundwassersenke (nehmen Wasser auf) dienen. \n",
    "Diese beiden Zustände werden effluent und influent genannt: \n",
    "* **effluente Fließverhältnisse:**  das Fließgewässer nimmt Grundwasser auf\n",
    "* **influente Fließverhältnisse:**  das Fließgewässer gibt Wasser an den Grundwasserleiter ab\n",
    "\n",
    "In der unteren Abbildung sind zur Linken influente und zur Rechten effluente Verhältnisse zu sehen. \n",
    "\n",
    "<div>\n",
    "   <img=src=\"Bilder/Bild19.png\" width=\"700\"><figcaption>Abb.9 - influente und effluente Strömung. Thomas C. Winter et al., Groundwater and Surface Water,(1998)</figcaption>\n",
    "    \n",
    "</div>\n",
    "\n",
    "\n",
    "Besuchen Sie diese Webseite https://has.concord.org/groundwater-movement.html und experimentieren Sie mit den vorgegebenen Templates und mit dem Grundwasserleiter Baukasten. \n",
    "Nutzen Sie die vorgegebenen Templates \"Gaining Stream\" und \"Losing Stream\" um effluente und influente Verhältnisse zu simulieren. \n",
    "Wählen Sie \"Gaining Stream\" und setzen Sie neben dem Fluss einen \"Non-flowback well\" (also einen Brunnen) und starten Sie die Simulation.\n",
    "* wie wird sich der Grundwasserspiegel verändern? Sind immernoch effluente Bedingungen vorherrschend? \n",
    "<div>\n",
    "   <img=src=\"Bilder/Bild20.png\" width=\"400\">\n",
    "    <figcaption>Abb.10 - Fluss und Grundwasser. entnommen von: https://has.concord.org/groundwater-movement.html </figcaption>\n",
    "</div>\n",
    "\n"
   ]
  },
  {
   "cell_type": "markdown",
   "metadata": {},
   "source": [
    "# Druckhöhe in der Hydrogeologie\n",
    "## Hydraulisches Potential\n",
    "\n",
    "Das hydraulische Potential h (im Bereich des Grundwassers auch: Piezometer-/Standrohrspiegelhöhe genannt) ist definiert durch die Höhe einer Wassersäule, welche sich unter einem Druck einstellt. \n",
    "Grundwasser wird von drei grundlegenden Energieformen angetrieben:\n",
    "1. potentielle Energie (hier im Term dargestellt als: $z$)\n",
    "- kinetische Energie (hier im Term dargestellt als: $\\frac{v^2}{2g}$)\n",
    "- Druckenergie (hier im Term dargestellt als: $\\frac{p}{\\rho g}$)\n",
    "\n",
    "$h = z  + \\frac{v^2}{2g}+ \\frac{p}{\\rho g}$\n",
    "\n",
    "Jedoch kann für die meisten Berechnungen die kinetische Energie außer Acht gelassen werden, sie ist oft zu niedrig.\n",
    "\n",
    "Daher bleibt: \n",
    "\n",
    "\n",
    "$h = z  + \\frac{p}{\\rho g}$\n",
    "\n",
    "<div>\n",
    "   <img=src=\"Bilder/Bild21.png\" width=\"250\">\n",
    "     <figcaption>Abb.11 - hydraulisches Potential. Geohydraulik,https://www.ebook-tipp.eu/wp-content/uploads/2020/11/Abb-open-end-test-instationA%C2%A </figcaption>\n",
    "</div>\n",
    "\n",
    "Zu beachten ist außerdem, dass $z$ immer den Abstand zum Bezugshorizont darstellt, welcher frei wählbar ist.\n",
    "Das Grundwasser bewegt sich immer von dem höheren hydraulischen Potential hin zum niedrigeren hydraulischen Potential.Gibt es keine Potentialdifferenz, so entsteht kein Fluss. Wie in der unteren Abbildung zu sehen, folgt die Fließrichtung der Potentialdifferenz von $h_1$ zu $h_2$. Faktoren wie die Lage oder die Neigung des Fließbehälters/des Grundwasserleiters sind unbedeutend.\n",
    "+ würde sich die Fließrichtung ändern, wenn $h_1$ kleiner als $h_2$ wäre? \n",
    "+ was geschieht, wenn $h_1 = h_2$ ist? \n",
    "\n",
    "<div>\n",
    "   <img=src=\"Bilder/Bild22.png\" width=\"350\">   <figcaption>Abb.12 - hydraulisches Potential. Kipfer et al.,HO_Hydrosphaere_08.pdf </figcaption>\n",
    "</div>\n",
    "\n",
    "\n",
    "\n",
    "\n",
    "\n",
    "\n",
    "## Darcy Gleichung\n",
    "\n",
    "<div>\n",
    "   <img=src=\"Bilder/Bild22.jpg\" width=\"150\"><figcaption>Abb.13 - Henry Darcy ,https://upload.wikimedia.org/wikipedia/commons/6/65/Henry_Darcy.jpg</figcaption>\n",
    "</div>\n",
    "\n",
    "Henry Darcy (1803-1858) war ein französischer Wissenschaftler, der weitreichende geohydraulische Experimente durchführte. Er ließ Wasser durch einen mit gesättigtem Sand gefüllten Zylinder von oben nach unten strömen und konnte so unterirdische Fließbedingungen simulieren. Oben und unten waren Piezometer (Druckmessgeräte welche die Wasserstandshöhe anzeigen) am Zylinder angebracht. Er brauchte nur noch die Zeit zu stoppen. \n",
    "Seine Versuche fanden unter folgenden Bedingungen statt:\n",
    "+ durchströmte Fläche $A$ des Zylinders is bekannt\n",
    "+ Ausflussvolumen $Q$ ist konstant\n",
    "+ Länge $l$ des durchströmten Mediums ist bekannt\n",
    "+ Druckhöhen h_1 und h_2 sind bekannt$\\Delta h$ ($h_1-h_2$) \n",
    "<div>\n",
    "   <img=src=\"Bilder/Bild23.png\" width=\"450\">\n",
    "    <figcaption>Abb.14 - Abbildung des Experiments nach Darcy.  Feineman, Pennsylvania State University</figcaption>\n",
    "</div>\n",
    "\n",
    "Er erkannte folgende Gesetzmäßigkeiten:\n",
    "* je größer die Druckhöhendifferenz $\\Delta h$, desto größer ist der Ausfluss $Q$ (direkte Proportionalität)\n",
    "* je größer die Länge des durchströmten Mediums  $l$, desto geringer der Ausfluss $Q$ (indirekte Proportionalität)\n",
    "\n",
    "Und nach weiteren Experimenten mit verschiedenen Zylindern unterschiedlicher Durchmesser:\n",
    "* je größer die durchströmte Fläche $A$ des Zylinders, desto größer ist der Ausfluss $Q$ (direkte Proportionalität) \n",
    "\n",
    "Somit konnte er folgende Gleichung aufstellen: \n",
    "\n",
    "$\\frac{Q} {A} = -K \\frac{\\Delta{h}} {\\Delta{L}}$\n",
    "\n",
    "Hydraulischer Gradient i [-]\n",
    "\n",
    "$i=\\frac{\\Delta{h}} {\\Delta{L}}$\n",
    "\n",
    "\n",
    "# Übung am Beispiel Dresdens \n",
    "\n",
    "\n",
    "Die Stadt Dresden hat eine interaktive Karte mit Messwerten der Grundwassermesstellen bereitgestellt. Unter diesem Link können Sie die Karte mit Ihrem Webbrowser aufrufen: https://stadtplan.dresden.de/?TH=UWA_GRUWA_MESS.\n",
    "1. Ihre Aufgabe ist es nun, die Messdaten im Stadtbezirk Laubegast auszuwerten und die Fließrichtung des Grundwassers zu bestimmen. Ziehen Sie auch die Elbe in Ihre Beobachtungen mit ein: herrschen effluente oder influente Verhältnisse? \n",
    "\n",
    "2. Sie möchten die Neigung des auf die Elbe aus südlicher Richtung zulaufenden Grundwasserleiters bestimmen. Wählen Sie dafür das Werkzeug \"Messen\" aus und bestimmen Sie den Gradienten i, nachdem Sie die Entfernung von zwei Grundwassermessstellen abgemessen haben.\n",
    "Nutzen Sie diesen Bereich: \n",
    "\n",
    "<div>\n",
    "   <img=src=\"Bilder/Bild10.png\" width=\"650\">\n",
    "    <figcaption>Abb.15 - Stadteil laubegast, interaktive geohydraulische Karte Dresden.  entnommen aus:https://stadtplan.dresden.de/?TH=UWA_GRUWA_MESS </figcaption>\n",
    "</div>\n",
    "\n",
    "## Hydraulische Leitfähigkeit\n",
    "\n",
    "Damit blieb der Faktor K in Darcys Auswertung der Experimente stehen. Der K-Wert ist die hydraulische Leitfähigkeit (oder auch Durchlässigkeitsbeiwert genannt) des durchströmten Mediums und wird in m/s angegeben. Er wird von verschiedenen Komponenten wie der Porosität, der Größe und Struktur des Mediums, oder auch der Dichte der Flüssigkeit beeinflusst. \n",
    "je nach Art der Körnung unterscheiden sich die hydraulischen Leitfähigkeiten in einem gravierenden Ausmaß.\n",
    "Ton besitzt eine über 1 Mio mal höhere Leitfähigkeit als Kies. \n",
    "\n",
    "<div>\n",
    "   <img=src=\"Bilder/Bild24.png\" width=\"450\">\n",
    "    <figcaption>Abb.16 - Darstellung der unterschiedlichen hydraulischen Leitfähigkeiten, Keith., Einführung in die Physische Geographie,https://slideplayer.org/slide/648838/1/images/16</figcaption>\n",
    "</div>\n",
    "\n",
    "\n",
    "Weiterhin legte Darcy den Grundstein für die sogenannte: \"Darcy-Geschwindigkeit\" $v_f$, auch Filtergeschwindigkeit genannt. Sie wird in m/s angegeben.\n",
    "\n",
    "Doch **Achtung!** \n",
    "Hierbei handelt es sich nur um eine scheinbare Geschwindigkeit. Denn die Poren und der damit verbundene Umweg, den das durch den Sand fließende  Wasser nehmen muss, wird nicht mit einberechnet. Der tatsächliche Fließweg ist deutlich länger. \n",
    "<div>\n",
    "   <img=src=\"Bilder/Bild25.png\" width=\"450\">\n",
    "    <figcaption>Abb.17 - tatsächlicher Fließweg im porösen Medium. Boley, Geotechnik 1, 2017</figcaption>\n",
    "</div>\n",
    "\"Darcy-Geschwindigkeit\":\n",
    "\n",
    "$v_f= \\frac{Q} {A}$\n",
    "\n",
    "\n",
    "Die tatsächliche Abstandsgeschwindigkeit $v_a$ ergibt sich aus dem Quotienten der \"Darcy-Geschwindigkeit\" $v_f$ und der effektiven Porosität $n_e$.\n",
    "\n",
    "$v_a = \\frac{v_f } {n_e}$"
   ]
  },
  {
   "cell_type": "markdown",
   "metadata": {},
   "source": [
    "# Darcy Experiment - zum Selbstaufbau\n",
    "\n",
    "Das Ziel dieses Experimentes ist es, Sie an die grundlegenden Prozesse der Wasserbewegungen im Untergrund heranzuführen. Da Ihnen die Darcy Gleichung bereits vertraut ist, bietet sich hierbei ein Experiment zur praktischen Erläuterung an. Üblicherweise wird der Darcy-Versuch unter kontrollierten Bedingungen mit Hilfe eines großen Zylinders, geregelter Wasserzufuhr und Piezometern durchgeführt. Unter besonderen Umständen jedoch, wie beispielsweise der COVID-19 Epidemie, können nicht immer zentral organisierte Laborpraktika arrangiert werden. An dieser Stelle bietet sich die Möglichkeit eines selbstgebauten Versuches für Sie zu Hause an. Das folgende Experiment soll folglich für jeden Studierenden mit möglichst wenigen, im besten Falle schon im Haushalt vorhandenen Hilfsmitteln, aufgebaut und ausgeführt werden können. Hierbei ist Ihre Kreativität gefragt, um die Ihnen zu Verfügung stehenden Materialien und Hilfsmittel so zu verwenden, dass Sie bestmögliche Ergebnisse erzielen. Alle für diese Experimente benötigten Materialen sollten in Ihrem nächstegelegenen Baumarkt zu finden sein oder bereits zu Hause vorhanden sein. \n",
    "\n",
    "\n",
    "![Bild2.jfif](Bilder/Bild2.jfif \"Abbildung des originalen Darcy Experimentes,1856\")\n",
    "<figcaption>Abb.18 - Abbildung des originalen Darcy Experimentes,1856. https://encrypted-tbn0.gstatic.com/images?q=tbn:ANd9GcTH4zWmobIF73AmbY1QxzW5Dsc9AF8SAGnF6A&usqp=CAU</figcaption> \n",
    "\n",
    "\\begin{equation}\n",
    "q= \\frac{Q} {A} = -K \\cdot i = -K \\frac{\\Delta{h}} {\\Delta{l}}\n",
    "\\end{equation}\n"
   ]
  },
  {
   "cell_type": "markdown",
   "metadata": {},
   "source": [
    "Mit dem folgenden Slider können Sie sehen, wie sich ihr Durchfluss unter verschiedenen Bedingungen ändert. Der ausgegebene Wert entspricht dem Durchfluss Q [$m^3$/s]. Die Startwerte sind so gewählt, dass die den möglichen Einstellungen des Experimentes entsprechen. "
   ]
  },
  {
   "cell_type": "code",
   "execution_count": 128,
   "metadata": {},
   "outputs": [
    {
     "data": {
      "application/vnd.jupyter.widget-view+json": {
       "model_id": "58e8e45118df4794bd843fc3222ffbb7",
       "version_major": 2,
       "version_minor": 0
      },
      "text/plain": [
       "interactive(children=(FloatLogSlider(value=0.0005, description='K [m/s]:', max=0.01, min=-10.0, step=0.0001), …"
      ]
     },
     "metadata": {},
     "output_type": "display_data"
    }
   ],
   "source": [
    "from ipywidgets import interact, interactive, fixed, interact_manual\n",
    "from IPython.display import display\n",
    "import ipywidgets as widgets\n",
    "import numpy as np\n",
    "import math as m\n",
    "import matplotlib.pyplot as plt\n",
    "import forallpeople as si\n",
    "\n",
    "\n",
    "def Q(K,A,h,l):\n",
    "    display(K * A * (h/l)) \n",
    "\n",
    "w = interactive(Q,K=widgets.FloatLogSlider(min=-10, max=0.01,value=0.0005, step=0.0001,description='K [m/s]:'),\n",
    "                        A=widgets.FloatLogSlider(min=-4, max=-2, value=0.0050, step=0.001,description='A [$m^2$]:'),\n",
    "                        h=widgets.FloatLogSlider(min=-2, max=-0.2, value=0.2, step=0.001,description='$\\Delta$h [m]:'),\n",
    "                        l=widgets.FloatLogSlider(min=-2, max=-0.3, value=0.1, step=0.001,description='$\\Delta$l [m]:'),\n",
    "                       )\n",
    "display(w)"
   ]
  },
  {
   "cell_type": "markdown",
   "metadata": {},
   "source": [
    "## Planung des Experimentes\n",
    "\n",
    "Anstelle des Darcy Zylinders wählen wir eine handelsübliche PET-Flasche. Idealerweise soll die Flasche die Form eines Zylinders aufweisen, der Durchmesser der Flasche sollte im gesamten Mittelteil konstant bleiben, das heißt es dürfen keine Verengungen oder Auswölbungen vorhanden sein. Sie benötigen folgende Materialien: \n",
    "* mehrere PET-Flaschen\n",
    "* ein Bandmaß oder einen Zollstock\n",
    "* ein Messer (idealerweise Cuttermesser)\n",
    "* ein Smartphone oder eine Stoppuhr\n",
    "* einen Plastikbecher\n",
    "* einen Jogurtbecher \n",
    "* ein wasserdurchlässiges Netzgewebe (es sollte engmaschig genug sein, um den Sand abzuhalten)\n",
    "* eine Küchenwaage\n",
    "* einen Permanentmarker\n",
    "* Kies\n",
    "* zwei Sande unterschiedlicher Korngröße\n",
    "* eine etwa 5-8 cm hohe Schüssel mit ebenem Boden\n",
    "\n",
    "<div>\n",
    "   <img=src=\"Bilder/Bild1.png\" width=\"600\">\n",
    "    <figcaption>Abb.19 - benötigte Materialien und Geräte</figcaption>\n",
    "</div>\n",
    "\n",
    "Zuallererst muss der Boden der Flasche mit dem Cuttermesser abgetrennt werden. Als nächstes versehen Sie die beiden Becher und den abgetrennten Boden mit Löchern.\n",
    "Eine gute Methode um eine gleichmäßige Verteilung zu erreichen, ist das Einbrennen mit einem erhitzen Metall, beispielsweise eines Nagels. Der Plastikbecher wird als Ständer dienen, um ein Umkippen der Flasche zu vermeiden und einen geregelten Wasseraustausch zu gewärleisten. Der durchlöcherte Jogurtbecher wird nur für die gleichmäßige Verteilung des einzufüllenden Wassers benötigt und kann genauso gut gegen einen Gegenstand mit gleichwertiger Funktion ausgetauscht werden. Nachdem Sie dies getan haben, sollte es wiefolgt aussehen:  \n",
    "![Bild3.jfif](Bilder/Bild3.jfif \"\")<figcaption>Abb.20 - Vorbereitung der Flaschen und Becher</figcaption>\n",
    "\n",
    "Setzen Sie nun den abgesägten Flaschenboden verkehrt herum in die umgedrehte Flasche ein, drücken Sie ihn bis ganz nach unten und befüllen Sie die Mulde mit Kies. Der nächste Schritt erfordert ein wenig Fingerspitzengefühl. Sie wollen ihr Netzgewebe so zurechtschneiden, dass es auf der Kiesschicht aufliegt und gleichzeitig einen Mantel für den später hinzugegebenen Sand dient. Haben sie hierbei Probleme, ist es ratsam das Netz an die innere Flaschenwand anzukleben. Setzen Sie also das Netzgewebe ein und füllen Sie die Flasche mit dem gröberen Sand auf, so dass die Höhe der Sandschicht ungefähr zwischen 5-7 cm beträgt.\n",
    "Setzen Sie dann den Experimentieraufbau wie in dieser Abbildung zu sehen, zusammen:\n",
    "<div>\n",
    "   <img=src=\"Bilder/Bild4.png\" width=\"450\">\n",
    "    <figcaption>Abb.21 - mit Kies und Sand/Kies befüllte Flasche </figcaption>\n",
    "</div>\n",
    "\n",
    "## Gesättigte und ungesättigte Verhältnisse \n",
    "Was denken Sie? Ist der Durchfluss unter gesättigten oder unter ungesättigten Bedingungen höher? Um Ihre Vermutung zu bestätigen, führen Sie den folgenden Versuch durch. Platzieren Sie die mit Sand gefüllte Flasche zusammen mit dem Plastikbecher in der Schüssel. Zusätzlich benötigen Sie 300 ml Wasser und eine Stoppuhr. Lassen Sie die Stoppuhr laufen und füllen das Wasser nach und nach in die Flasche, immer gerade so viel, dass der Wasserspiegel einen Zentimeter über dem Sand steht. Stoppen Sie die Zeit, wenn das Wasser aufgebraucht ist und der Wasserspiegel die Höhe der Sandschicht erreicht. Notieren Sie die Dauer. \n",
    "\n",
    "Lassen sie für den zweiten Teil des Versuches eine weitere Menge an Wasser durch die Sandschicht laufen und rühren Sie dabei den Sand gut durch. Daraufhin wird das Experiment wie zuvor durchgeführt, die 300 ml Wasser werden abgemessen und unter den selben Bedingungen in die mit feuchtem Sand beladene Flasche eingefüllt. Sobald der Wasserspiegel die Zentimetermarke unterschreitet und bis auf die Sandschicht absinkt, stoppen Sie die Zeit. \n",
    "\n",
    "Inwiefern unterscheiden sich die Zeiten aus den beiden Versuchen? Hat sich Ihre Vermutung bestätigt? \n",
    "\n",
    "## Versuch nach Darcy - Ermittlung der hydraulischen Leitfähigkeit\n",
    "### Vorbereitung des Experimentes\n",
    "Es ist empfehlenswert dieses Experiment in Ihrer Badewanne, der Dusche, dem Waschbecken oder draußen im Freien durchzuführen, da es zu einem Wasserabfluss kommen wird. Zunächst stellen Sie die Schüssel auf dem Boden ab und setzen den Plastikbecher mit der umgedrehten und mit Sand befüllten Flasche in die Mitte der Schüssel. \n",
    "Für die Anwendbarkeit des Darcy Gesetzes wird eine gesättigte Sandschicht benötigt. Befüllen Sie deshalb die Flasche mit Wasser und geben Sie weiter Wasser nach, sodass ein stetiger Fluss entsteht. Dabei ist es angebracht den Sand umzurühren, auf diese Weise können im Sand eingeschlossene, für unser Experiment unerwünschte, Luftblasen entfernt werden. \n",
    "Die Schüssel sollte nach einiger Zeit bis zum Rand mit Wasser gefüllt sein.\n",
    "\n",
    "Nehmen Sie ihr Maßband und messen Sie entlang der Flasche eine Distanz von 20 cm ab, beginnend vom Wasserstand der Schüssel bis hin zum oberen Drittel der Flasche. Markieren Sie mit dem Permanentmarker die Position mit einem Strich. Nutzen Sie das Maßband um den Umfang zu messen und daraus die Querschnittsfläche der Flasche zu berechnen. Sie kennen nun den Druckhöhenunterschied, Die Länge und den Querschnitt des durchströmen Mediums. Um die Darcy Gleichung anwenden zu können und die hydraulische Leitfähigkeit zu bestimmen, muss nur noch der Durchfluss pro Zeit ermittelt werden.\n",
    "Füllen Sie zwei leere PET-Flaschen mit Wasser.\n",
    "Eine grobe Skizze des Versuchsdurchgangs sieht folgendermaßen aus: \n",
    "![Bild5.png](Bilder/Bild5.png \"\")<figcaption>Abb.22 - skizzenhafte Versuchsdurchführung</figcaption>\n",
    "\n",
    "### Durchführung des Experimentes \n",
    "Wiegen sie nun die erste Flasche mit der Küchenwaage und notieren Sie sich das Gewicht. \n",
    "Befüllen Sie als nächstes mit der zweiten Flasche die Darcy-Flasche, sodass der Wasserstand weit über der Markierung liegt. Halten Sie die Stoppuhr bereit, denn sobald der sinkende Wasserpegel die Markierung erreicht, muss die Zeit gemessen werden. Hierbei ist es Ihnen überlassen, wie lange Sie den Versuch durchführen werden. Zu beachten ist jedoch, dass eine längere Durchlaufzeit ein genaueres Ergebnis liefern wird. Sobald sie Anfangen die Zeit zu messen, sollten Sie im gleichmäßigen Abstand Wasser aus der ersten Flasche nachfüllen, sodass der Wasserpegel immer erhalten bleibt und das Ergebnis nicht verfälscht wird.\n",
    "Nachdem Sie sich dazu entschieden haben den Versuch zu stoppen, notieren Sie sich die verlaufene Zeit und wiegen die PET-Flasche erneut. Mit der Differenz der Gewichte und der gemessenen Zeit ist es dann möglich, den Durchfluss zu errechnen. \n",
    "\n",
    "Führen Sie diesen Versuch mehrere Male durch und ermitteln sie den mittleren Durchfluss. Damit sind Ihnen alle notwendigen Werte bekannt um die hydraulische Leitfähigkeit mit Hilfe der Darcy Gleichung zu berechnen. \n",
    "\n",
    "\n",
    "Führen Sie im Anschluss exakt den selben Versuch nocheinmal durch (er wird zur gleichen Zeit abgebrochen), doch diesmal mit der anderen, feineren Sandprobe. \n",
    "Welche Veränderung des Durchflusses erwarten Sie? Wird der Unterschied minimal oder doch gravierend sein? \n",
    "Berechnen Sie auch hier die hydraulische Leitfähigkeit. \n",
    "Ordnen Sie Ihre Probe an Hand der hydraulischen Leitfähigkeit einem Sedimenttyp zu:\n",
    "<div>\n",
    "   <img=src=\"Bilder/Bild27.png\" width=\"290\">\n",
    "    <figcaption>Abb.23 - K-Werte unterschiedlicher Sedimente. Wagner,Einführung in die Geoströmungstechnik, TU-Freiberg</figcaption>\n",
    "</div>\n",
    "\n",
    "Berechnen Sie noch einmal die hydraulische Leitfähigkeit, aber diesmal unter veränderten Startbedingungen: \n",
    "* Verdoppeln Sie die Höhe der Sandschicht bei gleichbleibender Druckhöhe \n",
    "* Halbieren Sie die die Druckhöhe bei gleichbleibender Höhe der Sandschicht\n",
    "Was fällt Ihnen bei Betrachtung der Ergebnisse auf? In welcher Korrelation stehen sie zueinander? "
   ]
  },
  {
   "cell_type": "code",
   "execution_count": 134,
   "metadata": {},
   "outputs": [
    {
     "name": "stdout",
     "output_type": "stream",
     "text": [
      "\u001b[1m 1) Frage 1: Wie verändert sich der Durchfluss Q, wenn die Höhe der Sandschicht verdoppelt wird? \u001b[0m\n"
     ]
    },
    {
     "data": {
      "application/vnd.jupyter.widget-view+json": {
       "model_id": "561f11d52297467992ccc06dbb13213a",
       "version_major": 2,
       "version_minor": 0
      },
      "text/plain": [
       "RadioButtons(options=(('A) Q unterscheidet sich kaum', 1), ('B) Q ist halb so hoch', 2), ('C) Q ist doppelt so…"
      ]
     },
     "metadata": {},
     "output_type": "display_data"
    },
    {
     "data": {
      "application/vnd.jupyter.widget-view+json": {
       "model_id": "90ab7fe4ea34413cbae202561693623a",
       "version_major": 2,
       "version_minor": 0
      },
      "text/plain": [
       "Button(description='Antwort überprüfen', style=ButtonStyle())"
      ]
     },
     "metadata": {},
     "output_type": "display_data"
    },
    {
     "data": {
      "application/vnd.jupyter.widget-view+json": {
       "model_id": "a8257ada28e14e989583cd4201b62b9a",
       "version_major": 2,
       "version_minor": 0
      },
      "text/plain": [
       "Output()"
      ]
     },
     "metadata": {},
     "output_type": "display_data"
    }
   ],
   "source": [
    "import ipywidgets as widgets\n",
    "import sys\n",
    "from IPython.display import display\n",
    "from IPython.display import clear_output\n",
    "\n",
    "out = widgets.Output()\n",
    "\n",
    "alternativ = widgets.RadioButtons(\n",
    "    options=[('A) Q unterscheidet sich kaum', 1), ('B) Q ist halb so hoch', 2), ('C) Q ist doppelt so hoch', 3),('D) Q sinkt exponentiell ab', 4)],\n",
    "    description='',\n",
    "    disabled=False\n",
    ")\n",
    "print('\\033[1m','1) Frage 1: Wie verändert sich der Durchfluss Q, wenn die Höhe der Sandschicht verdoppelt wird?','\\033[0m')\n",
    "check = widgets.Button(description=\"Antwort überprüfen\")\n",
    "display(alternativ)\n",
    "display(check)\n",
    "\n",
    "\n",
    "def sjekksvar(b):\n",
    "        a = int(alternativ.value)\n",
    "        right_answer = 2\n",
    "        if(a==right_answer): \n",
    "            color = '\\x1b[6;30;42m' + \"Richtig.\" + '\\x1b[0m' +\"\\n\" #green color\n",
    "        else:\n",
    "            color = '\\x1b[5;30;41m' + \"Leider falsch, Antwort B ist richtig. \" + '\\x1b[0m' +\"\\n\" #red color\n",
    "        svar = [\"\",\"\",\"\",\"\"] \n",
    "        with out:\n",
    "            clear_output()\n",
    "        with out:\n",
    "            print(color+\"\"+svar[a-1])   \n",
    "    \n",
    "        \n",
    "        \n",
    "display(out)\n",
    "check.on_click(sjekksvar)\n",
    "\n"
   ]
  },
  {
   "cell_type": "code",
   "execution_count": 133,
   "metadata": {},
   "outputs": [
    {
     "name": "stdout",
     "output_type": "stream",
     "text": [
      "\u001b[1m 1) Frage 2: Wie verändert sich der Durchfluss Q, wenn $Delta h$ halbiert wird? \u001b[0m\n"
     ]
    },
    {
     "data": {
      "application/vnd.jupyter.widget-view+json": {
       "model_id": "d210c17665e24c84996d4b14d25f5eaa",
       "version_major": 2,
       "version_minor": 0
      },
      "text/plain": [
       "RadioButtons(options=(('A) Q unterscheidet sich kaum', 1), ('B) Q ist halb so hoch', 2), ('C) Q ist doppelt so…"
      ]
     },
     "metadata": {},
     "output_type": "display_data"
    },
    {
     "data": {
      "application/vnd.jupyter.widget-view+json": {
       "model_id": "6e927e63b02f44e5a1b7123cd093b432",
       "version_major": 2,
       "version_minor": 0
      },
      "text/plain": [
       "Button(description='Antwort überprüfen', style=ButtonStyle())"
      ]
     },
     "metadata": {},
     "output_type": "display_data"
    },
    {
     "data": {
      "application/vnd.jupyter.widget-view+json": {
       "model_id": "ffc4a1c04cf3410fa66712d73c8dbb47",
       "version_major": 2,
       "version_minor": 0
      },
      "text/plain": [
       "Output()"
      ]
     },
     "metadata": {},
     "output_type": "display_data"
    }
   ],
   "source": [
    "import ipywidgets as widgets\n",
    "import sys\n",
    "from IPython.display import display\n",
    "from IPython.display import clear_output\n",
    "\n",
    "out = widgets.Output()\n",
    "\n",
    "alternativ = widgets.RadioButtons(\n",
    "    options=[('A) Q unterscheidet sich kaum', 1), ('B) Q ist halb so hoch', 2), ('C) Q ist doppelt so hoch', 3),('D) Q sinkt exponentiell ab', 4)],\n",
    "    description='',\n",
    "    disabled=False\n",
    ")\n",
    "print('\\033[1m','1) Frage 2: Wie verändert sich der Durchfluss Q, wenn $Delta h$ halbiert wird?','\\033[0m')\n",
    "check = widgets.Button(description=\"Antwort überprüfen\")\n",
    "display(alternativ)\n",
    "display(check)\n",
    "\n",
    "\n",
    "def sjekksvar(b):\n",
    "        a = int(alternativ.value)\n",
    "        right_answer = 2\n",
    "        if(a==right_answer): \n",
    "            color = '\\x1b[6;30;42m' + \"Richtig.\" + '\\x1b[0m' +\"\\n\" #green color\n",
    "        else:\n",
    "            color = '\\x1b[5;30;41m' + \"Leider falsch, Antwort B ist richtig. \" + '\\x1b[0m' +\"\\n\" #red color\n",
    "        svar = [\"\",\"\",\"\",\"\"] \n",
    "        with out:\n",
    "            clear_output()\n",
    "        with out:\n",
    "            print(color+\"\"+svar[a-1])   \n",
    "    \n",
    "        \n",
    "        \n",
    "display(out)\n",
    "check.on_click(sjekksvar)\n"
   ]
  },
  {
   "cell_type": "code",
   "execution_count": 131,
   "metadata": {},
   "outputs": [
    {
     "name": "stdout",
     "output_type": "stream",
     "text": [
      "\u001b[1m 1) Frage 3:Nehmen Sie an, das Wasser benötigt in ihrem Versuch 10 Sekunden um durch die Sandschicht zu filtrieren. Wie lange würde es ganz grob geschätzt dauern, wenn Sie den Sand durch Ton ersetzen? \u001b[0m\n"
     ]
    },
    {
     "data": {
      "application/vnd.jupyter.widget-view+json": {
       "model_id": "f70d70d6e7eb4de797e499d6c72e0266",
       "version_major": 2,
       "version_minor": 0
      },
      "text/plain": [
       "RadioButtons(options=(('A) länger als 1 Stunde', 1), ('B) länger als 10 Stunden', 2), ('C) länger als 1 Tag', …"
      ]
     },
     "metadata": {},
     "output_type": "display_data"
    },
    {
     "data": {
      "application/vnd.jupyter.widget-view+json": {
       "model_id": "bdb559b5be1b488bbc7845293b24fd9e",
       "version_major": 2,
       "version_minor": 0
      },
      "text/plain": [
       "Button(description='Antwort überprüfen', style=ButtonStyle())"
      ]
     },
     "metadata": {},
     "output_type": "display_data"
    },
    {
     "data": {
      "application/vnd.jupyter.widget-view+json": {
       "model_id": "2a5c6c97a5aa4cf4bf13acd05620d6ba",
       "version_major": 2,
       "version_minor": 0
      },
      "text/plain": [
       "Output()"
      ]
     },
     "metadata": {},
     "output_type": "display_data"
    }
   ],
   "source": [
    "import ipywidgets as widgets\n",
    "import sys\n",
    "from IPython.display import display\n",
    "from IPython.display import clear_output\n",
    "\n",
    "out = widgets.Output()\n",
    "\n",
    "alternativ = widgets.RadioButtons(\n",
    "    options=[('A) länger als 1 Stunde', 1), ('B) länger als 10 Stunden', 2), ('C) länger als 1 Tag', 3),('D) länger als 10 Tage', 4)],\n",
    "    description='',\n",
    "    disabled=False\n",
    ")\n",
    "print('\\033[1m','1) Frage 3:Nehmen Sie an, das Wasser benötigt in ihrem Versuch 10 Sekunden um durch die Sandschicht zu filtrieren. Wie lange würde es ganz grob geschätzt dauern, wenn Sie den Sand durch Ton ersetzen?','\\033[0m')\n",
    "check = widgets.Button(description=\"Antwort überprüfen\")\n",
    "display(alternativ)\n",
    "display(check)\n",
    "\n",
    "\n",
    "def sjekksvar(b):\n",
    "        a = int(alternativ.value)\n",
    "        right_answer = 4\n",
    "        if(a==right_answer): \n",
    "            color = '\\x1b[6;30;42m' + \"Richtig.\" + '\\x1b[0m' +\"\\n\" #green color\n",
    "        else:\n",
    "            color = '\\x1b[5;30;41m' + \"Leider falsch, Antwort D ist richtig. \" + '\\x1b[0m' +\"\\n\" #red color\n",
    "        svar = [\"\",\"\",\"\",\"\"] \n",
    "        with out:\n",
    "            clear_output()\n",
    "        with out:\n",
    "            print(color+\"\"+svar[a-1])   \n",
    "    \n",
    "        \n",
    "        \n",
    "display(out)\n",
    "check.on_click(sjekksvar)\n"
   ]
  }
 ],
 "metadata": {
  "kernelspec": {
   "display_name": "Python 3",
   "language": "python",
   "name": "python3"
  },
  "language_info": {
   "codemirror_mode": {
    "name": "ipython",
    "version": 3
   },
   "file_extension": ".py",
   "mimetype": "text/x-python",
   "name": "python",
   "nbconvert_exporter": "python",
   "pygments_lexer": "ipython3",
   "version": "3.7.6"
  }
 },
 "nbformat": 4,
 "nbformat_minor": 4
}
