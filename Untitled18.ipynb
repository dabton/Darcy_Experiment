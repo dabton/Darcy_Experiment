{
 "cells": [
  {
   "attachments": {
    "image.png": {
     "image/png": "[encoded data removed]"
    }
   },
   "cell_type": "markdown",
   "metadata": {},
   "source": [
    "# Darcy Experiment - für zu Hause \n",
    "\n",
    "Das Ziel dieses Experimentes ist es, Sie an die grundlegenden Prozesse der Wasserbewegungen im Untergrund heranzuführen. Da Ihnen die Darcy Gleichung bereits vertraut ist, bietet sich hierbei ein Experiment zur praktischen Erläuterung an. Üblicherweise wird der Darcy-Versuch unter kontrollierten Bedingungen mit Hilfe eines großen Zylinders, geregelter Wasserzufuhr und Piezometern durchgeführt. Unter besonderen Umständen jedoch, wie beispielsweise der COVID-19 Epidemie, können nicht immer zentral organisierte Laborpraktika arrangiert werden. An dieser Stelle bietet sich die Möglichkeit eines selbstgebauten Versuches für Sie zu Hause an. Das folgende Experiment soll folglich für jeden Studierenden mit möglichst wenigen, im besten Falle schon im Haushalt vorhandenen Hilfsmitteln, aufgebaut und ausgeführt werden können. Hierbei ist Ihre Kreativität gefragt, um die Ihnen zu Verfügung stehenden Materialien und Hilfsmittel so zu verwenden, dass Sie bestmögliche Ergebnisse erzielen. Alle für diese Experimente benötigten Materialen sollten in Ihrem nächstegelegenen Baumarkt zu finden sein oder bereits zu Hause vorhanden sein. \n",
    "![image.png](attachment:image.png)\n",
    "Abbildung des originalen Darcy Experimentes,1856 https://encrypted-tbn0.gstatic.com/images?q=tbn:ANd9GcTH4zWmobIF73AmbY1QxzW5Dsc9AF8SAGnF6A&usqp=CAU\n",
    "\n",
    "## Planung des Experimentes\n",
    "\n",
    "Anstelle des Darcy Zylinders wählen wir eine handelsübliche PET-Flasche. Idealerweise soll die Flasche die Form eines Zylinders aufweisen, der Durchmesser der Flasche sollte im gesamten Mittelteil konstant bleiben, das heißt es darf keine Verengungen oder Auswölbungen vorhanden sein. Sie benötigen folgende Materialien: \n",
    "* mehrere PET-Flaschen\n",
    "* ein Bandmaß oder einen Zollstock\n",
    "* ein Messer (idealerweise Cuttermesser)\n",
    "* ein Smartphone oder eine Stoppuhr\n",
    "* einen Plastikbecher\n",
    "* einen Jogurtbecher \n",
    "* ein wasserdurchlässiges Netzgewebe (es sollte engmaschig genug sein, um den Sand abzuhalten)\n",
    "* eine Küchenwaage\n",
    "* einen Permanentmarker\n",
    "* Kies\n",
    "* zwei Sande unterschiedlicher Korngröße\n",
    "* eine etwa 5-8 cm hohe Schüssel mit ebenem Boden\n",
    "Zuallererst muss der Boden der Flasche mit dem Cuttermesser abgetrennt werden. Als nächstes versehen Sie die beiden Becher und den abgetrennten Boden mit Löchern. Eine gute Methode um eine gleichmäßige Verteilung zu erreichen, ist das Einbrennen mit einem erhitzen Metall, beispielsweise eines Nagels. Der Plastikbecher wird als Ständer dienen, um ein Umkippen der Flasche zu vermeiden und einen geregelten Wasseraustausch zu gewärleisten. Der durchlöcherte Jogurtbecher wird nur für die gleichmäßige Verteilung des einzufüllenden Wassers benötigt und kann genauso gut gegen einen Gegenstand mit gleichwertiger Funktion ausgetauscht werden. Nachdem Sie dies getan haben, sollte es wiefolgt aussehen:  \n",
    "![images.png](attachment:image.png)\n",
    "\n",
    "Setzen Sie nun den abgesägten Flaschenboden verkehrt herum in die umgedrehte Flasche ein, drücken Sie ihn bis ganz nach unten und befüllen Sie die Mulde mit Kies. Der nächste Schritt erfordert ein wenig Fingerspitzengefühl. Sie wollen ihr Netzgewebe so zurechtschneiden, dass es auf der Kiesschicht aufliegt und gleichzeitig einen Mantel für den später hinzugegebenen Sand dient. Haben sie hierbei Probleme, ist es ratsam das Netz an die innere Flaschenwand anzukleben. Setzen Sie also das Netzgewebe ein und füllen Sie die Flasche mit dem gröberen Sand auf, so dass die Höhe der Sandschicht ungefähr zwischen 5-7 cm beträgt.\n",
    "Setzen Sie dann den Experimentieraufbau wie in dieser Abbildung zu sehen, zusammen:\n",
    "\n",
    "## Gesättigte und ungesättigte Verhältnisse \n",
    "Was denken Sie? Ist der Durchfluss unter gesättigten oder unter ungesättigten Bedingungen höher? Um Ihre Vermutung zu bestätigen, führen Sie den folgenden Versuch durch. PLatzieren Sie die mit Sand gefüllte Flasche zusammen mit dem Plastikbecher in der Schüssel. Zusätzlich benötigen Sie 300 ml Wasser und eine Stoppuhr. Lassen Sie die Stoppuhr laufen und füllen das Wasser nach und nach in die Flasche, immer gerade so viel, dass der Wasserspiegel einen Zentimeter über dem Sand steht. Stoppen Sie die Zeit, wenn das Wasser aufgebraucht ist und der Wasserspiegel die Höhe der Sandschicht erreicht. Notieren Sie die Dauer. \n",
    "\n",
    "Lassen sie für den zweiten Teil des Versuches eine weitere Menge an Wasser durch die Sandschicht laufen und rühren Sie dabei den Sand gut durch. Daraufhin wird das Experiment wie zuvor durchgeführt, die 300 ml Wasser werden abgemessen und unter den selben Bedingungen in die mit feuchtem Sand beladene Flasche eingefüllt. Sobald der Wasserspiegel die Zentimetermarke unterschreitet und bis auf die Sandschicht absinkt, stoppen Sie die Zeit. \n",
    "\n",
    "Inwiefern unterscheiden sich die Zeiten aus den beiden Versuchen? Hat sich Ihre Vermutung bestätigt? \n",
    "\n",
    "## Versuch nach Darcy - Ermittlung der hydraulischen Leitfähigkeit\n",
    "### Vorbereitung des Experimentes\n",
    "Es ist empfehlenswert dieses Experiment in Ihrer Badewanne, der Dusche, dem Waschbecken oder draußen im Freien durchzuführen, da es zu einem Wasserabfluss kommen wird. Zunächst stellen Sie die Schüssel auf dem Boden ab und setzen den Plastikbecher mit der umgedrehten und mit Sand befüllten Flasche in die Mitte der Schüssel. \n",
    "Für die Anwendbarkeit des Darcy Gesetzes wird eine gesättigte Sandschicht benötigt. Befüllen Sie deshalb die Flasche mit Wasser und geben Sie weiter Wasser nach, sodass ein stetiger Fluss entsteht. Dabei ist es angebracht den Sand umzurühren, auf diese Weise können im Sand eingeschlossene, für unser Experiment unerwünschte, Luftblasen entfernt werden. \n",
    "Die Schüssel sollte nach einiger Zeit bis zum Rand mit Wasser gefüllt sein.\n",
    "\n",
    "Nehmen Sie ihr Maßband und messen Sie entlang der Flasche eine Distanz von 20 cm ab, beginnend vom Wasserstand der Schüssel bis hin zum oberen Drittel der Flasche. Markieren Sie mit dem Permanentmarker die Position mit einem Strich. Nutzen Sie das Maßband um den Umfang zu messen und daraus die Querschnittsfläche der Flasche zu berechnen. Sie kennen nun den Druckhöhenunterschied, Die Länge und den Querschnitt des durchströmen Mediums. Um die Darcy Gleichung anwenden zu können und die hydraulische Leitfähigkeit zu bestimmen, muss nur noch der Durchfluss pro Zeit ermittelt werden.\n",
    "Füllen Sie zwei leere PET-Flaschen mit Wasser.\n",
    "\n",
    "### Durchführung des Experimentes \n",
    "Wiegen sie nun die erste Flasche mit der Küchenwaage und notieren Sie sich das Gewicht. \n",
    "Befüllen Sie als nächstes mit der zweiten Flasche die Darcy-Flasche, sodass der Wasserstand weit über der Markierung liegt. Halten Sie die Stoppuhr bereit, denn sobald der sinkende Wasserpegel die Markierung erreicht, muss die Zeit gemessen werden. Hierbei ist es Ihnen überlassen, wie lange Sie den Versuch durchführen werden. Zu beachten ist jedoch, dass eine längere Durchlaufzeit ein genaueres Ergebnis liefern wird. Sobald sie Anfangen die Zeit zu messen, sollten Sie im gleichmäßigen Abstand Wasser aus der ersten Flasche nachfüllen, sodass der Wasserpegel immer erhalten bleibt und das Ergebnis nicht verfälscht wird.\n",
    "Nachdem Sie sich dazu entschieden haben den Versuch zu stoppen, notieren Sie sich die verlaufene Zeit und wiegen die PET-Flasche erneut. Mit der Differenz der Gewichte und der gemessenen Zeit ist es dann möglich, den Durchfluss zu errechnen. \n",
    "\n",
    "Führen Sie diesen Versuch mehrere Male durch und ermitteln sie den mittleren Durchfluss. Damit sind Ihnen alle notwendigen Werte bekannt um die hydraulische Leitfähigkeit mit Hilfe der Darcy Gleichung zu berechnen. \n",
    "\n",
    "\n",
    "Führen Sie im Anschluss exakt den selben Versuch nocheinmal durch (er wird zur gleichen Zeit abgebrochen), doch diesmal mit der anderen, feineren Sandprobe. \n",
    "Welche Veränderung des Durchflusses erwarten Sie? Wird der Unterschied minimal oder doch gravierend sein? \n",
    "Berechnen Sie auch hier die hydraulische Leitfähigkeit. \n",
    "Ordnen Sie Ihre Probe an Hand der hydraulischen Leitfähigkeit einem Sedimenttyp zu:![image.png](attachment:image.png)\n",
    "\n",
    "Berechnen Sie noch einmal die hydraulische Leitfähigkeit, aber diesmal unter veränderten Startbedingungen: \n",
    "* Verdoppeln Sie die Höhe der Sandschicht bei gleichbleibender Druckhöhe \n",
    "* Halbieren Sie die die Druckhöhe bei gleichbleibender Höhe der Sandschicht\n",
    "Was fällt Ihnen bei Betrachtung der Ergebnisse auf? In welcher Korrelation stehen sie zueinander? \n"
   ]
  },
  {
   "cell_type": "code",
   "execution_count": 3,
   "metadata": {
    "scrolled": true
   },
   "outputs": [
    {
     "name": "stdout",
     "output_type": "stream",
     "text": [
      "\u001b[1m 1) Frage 1: Wie verändert sich der Durchfluss, wenn die Höhe der Sandschicht verdoppelt wird? \u001b[0m\n"
     ]
    },
    {
     "data": {
      "application/vnd.jupyter.widget-view+json": {
       "model_id": "2d1243cedc4a45b1bedb794a2f57b007",
       "version_major": 2,
       "version_minor": 0
      },
      "text/plain": [
       "RadioButtons(options=(('A) Q unterscheidet sich kaum', 1), ('B) Q ist halb so hoch', 2), ('C) Q ist doppelt so…"
      ]
     },
     "metadata": {},
     "output_type": "display_data"
    },
    {
     "data": {
      "application/vnd.jupyter.widget-view+json": {
       "model_id": "5189bca86f0142fa8275d264b561bed2",
       "version_major": 2,
       "version_minor": 0
      },
      "text/plain": [
       "Button(description='Antwort überprüfen', style=ButtonStyle())"
      ]
     },
     "metadata": {},
     "output_type": "display_data"
    },
    {
     "data": {
      "application/vnd.jupyter.widget-view+json": {
       "model_id": "29601825b7544e8ca346bd9fc860413e",
       "version_major": 2,
       "version_minor": 0
      },
      "text/plain": [
       "Output()"
      ]
     },
     "metadata": {},
     "output_type": "display_data"
    }
   ],
   "source": [
    "import ipywidgets as widgets\n",
    "import sys\n",
    "from IPython.display import display\n",
    "from IPython.display import clear_output\n",
    "\n",
    "out = widgets.Output()\n",
    "\n",
    "alternativ = widgets.RadioButtons(\n",
    "    options=[('A) Q unterscheidet sich kaum', 1), ('B) Q ist halb so hoch', 2), ('C) Q ist doppelt so hoch', 3),('D) Q sinkt exponentiell ab', 4)],\n",
    "    description='',\n",
    "    disabled=False\n",
    ")\n",
    "print('\\033[1m','1) Frage 1: Wie verändert sich der Durchfluss, wenn die Höhe der Sandschicht verdoppelt wird?','\\033[0m')\n",
    "check = widgets.Button(description=\"Antwort überprüfen\")\n",
    "display(alternativ)\n",
    "display(check)\n",
    "\n",
    "\n",
    "def sjekksvar(b):\n",
    "        a = int(alternativ.value)\n",
    "        right_answer = 2\n",
    "        if(a==right_answer): \n",
    "            color = '\\x1b[6;30;42m' + \"Richtig.\" + '\\x1b[0m' +\"\\n\" #green color\n",
    "        else:\n",
    "            color = '\\x1b[5;30;41m' + \"Leider falsch, Antwort B ist richtig. \" + '\\x1b[0m' +\"\\n\" #red color\n",
    "        svar = [\"\",\"\",\"\",\"\"] \n",
    "        with out:\n",
    "            clear_output()\n",
    "        with out:\n",
    "            print(color+\"\"+svar[a-1])   \n",
    "    \n",
    "        \n",
    "        \n",
    "display(out)\n",
    "check.on_click(sjekksvar)\n"
   ]
  },
  {
   "cell_type": "code",
   "execution_count": 4,
   "metadata": {},
   "outputs": [
    {
     "name": "stdout",
     "output_type": "stream",
     "text": [
      "\u001b[1m 1) Frage 1: Wie verändert sich der Durchfluss, wenn die Wasserspiegelhöhe in der Flasche halbiert wird? \u001b[0m\n"
     ]
    },
    {
     "data": {
      "application/vnd.jupyter.widget-view+json": {
       "model_id": "8f459a428e904a29aeda05eba23c6fe7",
       "version_major": 2,
       "version_minor": 0
      },
      "text/plain": [
       "RadioButtons(options=(('A) Q unterscheidet sich kaum', 1), ('B) Q ist halb so hoch', 2), ('C) Q ist doppelt so…"
      ]
     },
     "metadata": {},
     "output_type": "display_data"
    },
    {
     "data": {
      "application/vnd.jupyter.widget-view+json": {
       "model_id": "608691c14eca4fa6b6df29c427e1ce5c",
       "version_major": 2,
       "version_minor": 0
      },
      "text/plain": [
       "Button(description='Antwort überprüfen', style=ButtonStyle())"
      ]
     },
     "metadata": {},
     "output_type": "display_data"
    },
    {
     "data": {
      "application/vnd.jupyter.widget-view+json": {
       "model_id": "d2d562fa86e7422287eb1fb4d6fe58cf",
       "version_major": 2,
       "version_minor": 0
      },
      "text/plain": [
       "Output()"
      ]
     },
     "metadata": {},
     "output_type": "display_data"
    }
   ],
   "source": [
    "out = widgets.Output()\n",
    "\n",
    "alternativ = widgets.RadioButtons(\n",
    "    options=[('A) Q unterscheidet sich kaum', 1), ('B) Q ist halb so hoch', 2), ('C) Q ist doppelt so hoch', 3),('D) Q sinkt exponentiell ab', 4)],\n",
    "    description='',\n",
    "    disabled=False\n",
    ")\n",
    "print('\\033[1m','1) Frage 1: Wie verändert sich der Durchfluss, wenn die Wasserspiegelhöhe in der Flasche halbiert wird?','\\033[0m')\n",
    "check = widgets.Button(description=\"Antwort überprüfen\")\n",
    "display(alternativ)\n",
    "display(check)\n",
    "\n",
    "\n",
    "def sjekksvar(b):\n",
    "        a = int(alternativ.value)\n",
    "        right_answer = 2\n",
    "        if(a==right_answer): \n",
    "            color = '\\x1b[6;30;42m' + \"Richtig.\" + '\\x1b[0m' +\"\\n\" #green color\n",
    "        else:\n",
    "            color = '\\x1b[5;30;41m' + \"Leider falsch, Antwort B ist richtig. \" + '\\x1b[0m' +\"\\n\" #red color\n",
    "        svar = [\"\",\"\",\"\",\"\"] \n",
    "        with out:\n",
    "            clear_output()\n",
    "        with out:\n",
    "            print(color+\"\"+svar[a-1])   \n",
    "    \n",
    "        \n",
    "        \n",
    "display(out)\n",
    "check.on_click(sjekksvar)"
   ]
  },
  {
   "cell_type": "code",
   "execution_count": 5,
   "metadata": {},
   "outputs": [
    {
     "name": "stdout",
     "output_type": "stream",
     "text": [
      "\u001b[1m 1) Frage 1: Wie verändert sich der Durchfluss, wenn die Wasserspiegelhöhe in der Flasche halbiert wird? \u001b[0m\n"
     ]
    },
    {
     "data": {
      "application/vnd.jupyter.widget-view+json": {
       "model_id": "9b85071ce29e4f3c83100cf156cf6361",
       "version_major": 2,
       "version_minor": 0
      },
      "text/plain": [
       "RadioButtons(options=(('A) Q unterscheidet sich kaum', 1), ('B) Q ist halb so hoch', 2), ('C) Q ist doppelt so…"
      ]
     },
     "metadata": {},
     "output_type": "display_data"
    },
    {
     "data": {
      "application/vnd.jupyter.widget-view+json": {
       "model_id": "6e06cf3f06bd42d5bdf60009e48078f1",
       "version_major": 2,
       "version_minor": 0
      },
      "text/plain": [
       "Button(description='Antwort überprüfen', style=ButtonStyle())"
      ]
     },
     "metadata": {},
     "output_type": "display_data"
    },
    {
     "data": {
      "application/vnd.jupyter.widget-view+json": {
       "model_id": "ddf48c3c05b24e28abf23b8a753dd7d8",
       "version_major": 2,
       "version_minor": 0
      },
      "text/plain": [
       "Output()"
      ]
     },
     "metadata": {},
     "output_type": "display_data"
    }
   ],
   "source": [
    "out = widgets.Output()\n",
    "\n",
    "alternativ = widgets.RadioButtons(\n",
    "    options=[('A) Q unterscheidet sich kaum', 1), ('B) Q ist halb so hoch', 2), ('C) Q ist doppelt so hoch', 3),('D) Q sinkt exponentiell ab', 4)],\n",
    "    description='',\n",
    "    disabled=False\n",
    ")\n",
    "print('\\033[1m','1) Frage 1: Wie verändert sich der Durchfluss, wenn die Wasserspiegelhöhe in der Flasche halbiert wird?','\\033[0m')\n",
    "check = widgets.Button(description=\"Antwort überprüfen\")\n",
    "display(alternativ)\n",
    "display(check)\n",
    "\n",
    "\n",
    "def sjekksvar(b):\n",
    "        a = int(alternativ.value)\n",
    "        right_answer = 2\n",
    "        if(a==right_answer): \n",
    "            color = '\\x1b[6;30;42m' + \"Richtig.\" + '\\x1b[0m' +\"\\n\" #green color\n",
    "        else:\n",
    "            color = '\\x1b[5;30;41m' + \"Leider falsch, Antwort B ist richtig. \" + '\\x1b[0m' +\"\\n\" #red color\n",
    "        svar = [\"\",\"\",\"\",\"\"] \n",
    "        with out:\n",
    "            clear_output()\n",
    "        with out:\n",
    "            print(color+\"\"+svar[a-1])   \n",
    "    \n",
    "        \n",
    "        \n",
    "display(out)\n",
    "check.on_click(sjekksvar)"
   ]
  },
  {
   "cell_type": "code",
   "execution_count": null,
   "metadata": {},
   "outputs": [],
   "source": []
  }
 ],
 "metadata": {
  "kernelspec": {
   "display_name": "Python 3",
   "language": "python",
   "name": "python3"
  },
  "language_info": {
   "codemirror_mode": {
    "name": "ipython",
    "version": 3
   },
   "file_extension": ".py",
   "mimetype": "text/x-python",
   "name": "python",
   "nbconvert_exporter": "python",
   "pygments_lexer": "ipython3",
   "version": "3.7.6"
  }
 },
 "nbformat": 4,
 "nbformat_minor": 4
}
